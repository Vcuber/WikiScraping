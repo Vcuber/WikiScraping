{
 "cells": [
  {
   "cell_type": "code",
   "execution_count": 1,
   "metadata": {},
   "outputs": [],
   "source": [
    "import pandas as pd\n",
    "import numpy as np\n",
    "import matplotlib.pyplot as plt\n",
    "import seaborn as sns"
   ]
  },
  {
   "cell_type": "code",
   "execution_count": 2,
   "metadata": {},
   "outputs": [
    {
     "data": {
      "text/html": [
       "<div>\n",
       "<style scoped>\n",
       "    .dataframe tbody tr th:only-of-type {\n",
       "        vertical-align: middle;\n",
       "    }\n",
       "\n",
       "    .dataframe tbody tr th {\n",
       "        vertical-align: top;\n",
       "    }\n",
       "\n",
       "    .dataframe thead th {\n",
       "        text-align: right;\n",
       "    }\n",
       "</style>\n",
       "<table border=\"1\" class=\"dataframe\">\n",
       "  <thead>\n",
       "    <tr style=\"text-align: right;\">\n",
       "      <th></th>\n",
       "      <th>Country</th>\n",
       "      <th>Per Capita Income</th>\n",
       "      <th>Population</th>\n",
       "      <th>Gini Coefficient</th>\n",
       "      <th>Human Development Index</th>\n",
       "    </tr>\n",
       "  </thead>\n",
       "  <tbody>\n",
       "    <tr>\n",
       "      <th>0</th>\n",
       "      <td>Afghanistan</td>\n",
       "      <td>601.0</td>\n",
       "      <td>652230.0</td>\n",
       "      <td>27.80</td>\n",
       "      <td>0.498</td>\n",
       "    </tr>\n",
       "    <tr>\n",
       "      <th>1</th>\n",
       "      <td>Albania</td>\n",
       "      <td>5261.0</td>\n",
       "      <td>2821977.0</td>\n",
       "      <td>34.50</td>\n",
       "      <td>0.785</td>\n",
       "    </tr>\n",
       "    <tr>\n",
       "      <th>2</th>\n",
       "      <td>Algeria</td>\n",
       "      <td>4645.0</td>\n",
       "      <td>42200000.0</td>\n",
       "      <td>27.60</td>\n",
       "      <td>0.754</td>\n",
       "    </tr>\n",
       "    <tr>\n",
       "      <th>3</th>\n",
       "      <td>Andorra</td>\n",
       "      <td>36987.0</td>\n",
       "      <td>NaN</td>\n",
       "      <td>27.21</td>\n",
       "      <td>0.858</td>\n",
       "    </tr>\n",
       "    <tr>\n",
       "      <th>4</th>\n",
       "      <td>Angola</td>\n",
       "      <td>4101.0</td>\n",
       "      <td>NaN</td>\n",
       "      <td>42.70</td>\n",
       "      <td>0.581</td>\n",
       "    </tr>\n",
       "  </tbody>\n",
       "</table>\n",
       "</div>"
      ],
      "text/plain": [
       "       Country  Per Capita Income  Population  Gini Coefficient  \\\n",
       "0  Afghanistan              601.0    652230.0             27.80   \n",
       "1      Albania             5261.0   2821977.0             34.50   \n",
       "2      Algeria             4645.0  42200000.0             27.60   \n",
       "3      Andorra            36987.0         NaN             27.21   \n",
       "4       Angola             4101.0         NaN             42.70   \n",
       "\n",
       "   Human Development Index  \n",
       "0                    0.498  \n",
       "1                    0.785  \n",
       "2                    0.754  \n",
       "3                    0.858  \n",
       "4                    0.581  "
      ]
     },
     "execution_count": 2,
     "metadata": {},
     "output_type": "execute_result"
    }
   ],
   "source": [
    "worldDf = pd.read_csv('World_Development_Info.csv')\n",
    "worldDf.head()"
   ]
  },
  {
   "cell_type": "code",
   "execution_count": 3,
   "metadata": {},
   "outputs": [
    {
     "data": {
      "text/plain": [
       "(196, 5)"
      ]
     },
     "execution_count": 3,
     "metadata": {},
     "output_type": "execute_result"
    }
   ],
   "source": [
    "worldDf.shape"
   ]
  },
  {
   "cell_type": "code",
   "execution_count": 4,
   "metadata": {},
   "outputs": [
    {
     "data": {
      "text/plain": [
       "Index(['Country', 'Per Capita Income', 'Population', 'Gini Coefficient',\n",
       "       'Human Development Index'],\n",
       "      dtype='object')"
      ]
     },
     "execution_count": 4,
     "metadata": {},
     "output_type": "execute_result"
    }
   ],
   "source": [
    "worldDf.columns"
   ]
  },
  {
   "cell_type": "code",
   "execution_count": 5,
   "metadata": {},
   "outputs": [
    {
     "data": {
      "text/plain": [
       "RangeIndex(start=0, stop=196, step=1)"
      ]
     },
     "execution_count": 5,
     "metadata": {},
     "output_type": "execute_result"
    }
   ],
   "source": [
    "worldDf.index"
   ]
  },
  {
   "cell_type": "code",
   "execution_count": 6,
   "metadata": {},
   "outputs": [
    {
     "data": {
      "text/html": [
       "<div>\n",
       "<style scoped>\n",
       "    .dataframe tbody tr th:only-of-type {\n",
       "        vertical-align: middle;\n",
       "    }\n",
       "\n",
       "    .dataframe tbody tr th {\n",
       "        vertical-align: top;\n",
       "    }\n",
       "\n",
       "    .dataframe thead th {\n",
       "        text-align: right;\n",
       "    }\n",
       "</style>\n",
       "<table border=\"1\" class=\"dataframe\">\n",
       "  <thead>\n",
       "    <tr style=\"text-align: right;\">\n",
       "      <th></th>\n",
       "      <th>Country</th>\n",
       "      <th>Per Capita Income</th>\n",
       "      <th>Population</th>\n",
       "      <th>Gini Coefficient</th>\n",
       "      <th>Human Development Index</th>\n",
       "    </tr>\n",
       "  </thead>\n",
       "  <tbody>\n",
       "    <tr>\n",
       "      <th>190</th>\n",
       "      <td>Vatican City</td>\n",
       "      <td>NaN</td>\n",
       "      <td>1000.0</td>\n",
       "      <td>NaN</td>\n",
       "      <td>NaN</td>\n",
       "    </tr>\n",
       "  </tbody>\n",
       "</table>\n",
       "</div>"
      ],
      "text/plain": [
       "          Country  Per Capita Income  Population  Gini Coefficient  \\\n",
       "190  Vatican City                NaN      1000.0               NaN   \n",
       "\n",
       "     Human Development Index  \n",
       "190                      NaN  "
      ]
     },
     "execution_count": 6,
     "metadata": {},
     "output_type": "execute_result"
    }
   ],
   "source": [
    "worldDf[worldDf['Country'] == 'Vatican City']"
   ]
  },
  {
   "cell_type": "code",
   "execution_count": 7,
   "metadata": {},
   "outputs": [],
   "source": [
    "worldDf['Population'] = round(worldDf['Population']/1000000,2)"
   ]
  },
  {
   "cell_type": "code",
   "execution_count": 8,
   "metadata": {},
   "outputs": [
    {
     "data": {
      "text/html": [
       "<div>\n",
       "<style scoped>\n",
       "    .dataframe tbody tr th:only-of-type {\n",
       "        vertical-align: middle;\n",
       "    }\n",
       "\n",
       "    .dataframe tbody tr th {\n",
       "        vertical-align: top;\n",
       "    }\n",
       "\n",
       "    .dataframe thead th {\n",
       "        text-align: right;\n",
       "    }\n",
       "</style>\n",
       "<table border=\"1\" class=\"dataframe\">\n",
       "  <thead>\n",
       "    <tr style=\"text-align: right;\">\n",
       "      <th></th>\n",
       "      <th>Country</th>\n",
       "      <th>Per Capita Income</th>\n",
       "      <th>Population</th>\n",
       "      <th>Gini Coefficient</th>\n",
       "      <th>Human Development Index</th>\n",
       "    </tr>\n",
       "  </thead>\n",
       "  <tbody>\n",
       "    <tr>\n",
       "      <th>77</th>\n",
       "      <td>India</td>\n",
       "      <td>2016.0</td>\n",
       "      <td>1324.17</td>\n",
       "      <td>33.9</td>\n",
       "      <td>0.64</td>\n",
       "    </tr>\n",
       "  </tbody>\n",
       "</table>\n",
       "</div>"
      ],
      "text/plain": [
       "   Country  Per Capita Income  Population  Gini Coefficient  \\\n",
       "77   India             2016.0     1324.17              33.9   \n",
       "\n",
       "    Human Development Index  \n",
       "77                     0.64  "
      ]
     },
     "execution_count": 8,
     "metadata": {},
     "output_type": "execute_result"
    }
   ],
   "source": [
    "worldDf[worldDf['Country'] == 'India']"
   ]
  },
  {
   "cell_type": "code",
   "execution_count": 9,
   "metadata": {},
   "outputs": [
    {
     "data": {
      "text/html": [
       "<div>\n",
       "<style scoped>\n",
       "    .dataframe tbody tr th:only-of-type {\n",
       "        vertical-align: middle;\n",
       "    }\n",
       "\n",
       "    .dataframe tbody tr th {\n",
       "        vertical-align: top;\n",
       "    }\n",
       "\n",
       "    .dataframe thead th {\n",
       "        text-align: right;\n",
       "    }\n",
       "</style>\n",
       "<table border=\"1\" class=\"dataframe\">\n",
       "  <thead>\n",
       "    <tr style=\"text-align: right;\">\n",
       "      <th></th>\n",
       "      <th>Country</th>\n",
       "      <th>Per Capita Income</th>\n",
       "      <th>Population</th>\n",
       "      <th>Gini Coefficient</th>\n",
       "      <th>Human Development Index</th>\n",
       "    </tr>\n",
       "  </thead>\n",
       "  <tbody>\n",
       "    <tr>\n",
       "      <th>190</th>\n",
       "      <td>Vatican City</td>\n",
       "      <td>NaN</td>\n",
       "      <td>0.0</td>\n",
       "      <td>NaN</td>\n",
       "      <td>NaN</td>\n",
       "    </tr>\n",
       "  </tbody>\n",
       "</table>\n",
       "</div>"
      ],
      "text/plain": [
       "          Country  Per Capita Income  Population  Gini Coefficient  \\\n",
       "190  Vatican City                NaN         0.0               NaN   \n",
       "\n",
       "     Human Development Index  \n",
       "190                      NaN  "
      ]
     },
     "execution_count": 9,
     "metadata": {},
     "output_type": "execute_result"
    }
   ],
   "source": [
    "worldDf[worldDf['Population'] == worldDf['Population'].min()]"
   ]
  },
  {
   "cell_type": "code",
   "execution_count": 10,
   "metadata": {},
   "outputs": [],
   "source": [
    "newWorldDf = worldDf.dropna()"
   ]
  },
  {
   "cell_type": "code",
   "execution_count": 11,
   "metadata": {},
   "outputs": [
    {
     "name": "stderr",
     "output_type": "stream",
     "text": [
      "/anaconda3/lib/python3.7/site-packages/ipykernel_launcher.py:1: SettingWithCopyWarning: \n",
      "A value is trying to be set on a copy of a slice from a DataFrame.\n",
      "Try using .loc[row_indexer,col_indexer] = value instead\n",
      "\n",
      "See the caveats in the documentation: http://pandas.pydata.org/pandas-docs/stable/indexing.html#indexing-view-versus-copy\n",
      "  \"\"\"Entry point for launching an IPython kernel.\n"
     ]
    }
   ],
   "source": [
    "newWorldDf['Human Development Index'] = newWorldDf['Human Development Index']*100"
   ]
  },
  {
   "cell_type": "code",
   "execution_count": 12,
   "metadata": {},
   "outputs": [
    {
     "data": {
      "text/html": [
       "<div>\n",
       "<style scoped>\n",
       "    .dataframe tbody tr th:only-of-type {\n",
       "        vertical-align: middle;\n",
       "    }\n",
       "\n",
       "    .dataframe tbody tr th {\n",
       "        vertical-align: top;\n",
       "    }\n",
       "\n",
       "    .dataframe thead th {\n",
       "        text-align: right;\n",
       "    }\n",
       "</style>\n",
       "<table border=\"1\" class=\"dataframe\">\n",
       "  <thead>\n",
       "    <tr style=\"text-align: right;\">\n",
       "      <th></th>\n",
       "      <th>Country</th>\n",
       "      <th>Per Capita Income</th>\n",
       "      <th>Population</th>\n",
       "      <th>Gini Coefficient</th>\n",
       "      <th>Human Development Index</th>\n",
       "    </tr>\n",
       "  </thead>\n",
       "  <tbody>\n",
       "    <tr>\n",
       "      <th>0</th>\n",
       "      <td>Afghanistan</td>\n",
       "      <td>601.0</td>\n",
       "      <td>0.65</td>\n",
       "      <td>27.8</td>\n",
       "      <td>49.8</td>\n",
       "    </tr>\n",
       "    <tr>\n",
       "      <th>1</th>\n",
       "      <td>Albania</td>\n",
       "      <td>5261.0</td>\n",
       "      <td>2.82</td>\n",
       "      <td>34.5</td>\n",
       "      <td>78.5</td>\n",
       "    </tr>\n",
       "    <tr>\n",
       "      <th>2</th>\n",
       "      <td>Algeria</td>\n",
       "      <td>4645.0</td>\n",
       "      <td>42.20</td>\n",
       "      <td>27.6</td>\n",
       "      <td>75.4</td>\n",
       "    </tr>\n",
       "    <tr>\n",
       "      <th>6</th>\n",
       "      <td>Argentina</td>\n",
       "      <td>9054.0</td>\n",
       "      <td>40.12</td>\n",
       "      <td>40.6</td>\n",
       "      <td>82.5</td>\n",
       "    </tr>\n",
       "    <tr>\n",
       "      <th>7</th>\n",
       "      <td>Armenia</td>\n",
       "      <td>4446.0</td>\n",
       "      <td>3.02</td>\n",
       "      <td>32.5</td>\n",
       "      <td>75.5</td>\n",
       "    </tr>\n",
       "  </tbody>\n",
       "</table>\n",
       "</div>"
      ],
      "text/plain": [
       "       Country  Per Capita Income  Population  Gini Coefficient  \\\n",
       "0  Afghanistan              601.0        0.65              27.8   \n",
       "1      Albania             5261.0        2.82              34.5   \n",
       "2      Algeria             4645.0       42.20              27.6   \n",
       "6    Argentina             9054.0       40.12              40.6   \n",
       "7      Armenia             4446.0        3.02              32.5   \n",
       "\n",
       "   Human Development Index  \n",
       "0                     49.8  \n",
       "1                     78.5  \n",
       "2                     75.4  \n",
       "6                     82.5  \n",
       "7                     75.5  "
      ]
     },
     "execution_count": 12,
     "metadata": {},
     "output_type": "execute_result"
    }
   ],
   "source": [
    "newWorldDf.head()"
   ]
  },
  {
   "cell_type": "code",
   "execution_count": 13,
   "metadata": {},
   "outputs": [
    {
     "data": {
      "text/plain": [
       "<seaborn.axisgrid.PairGrid at 0x1a19c9d518>"
      ]
     },
     "execution_count": 13,
     "metadata": {},
     "output_type": "execute_result"
    },
    {
     "data": {
      "image/png": "[encoded data removed]",
      "text/plain": [
       "<Figure size 720x720 with 20 Axes>"
      ]
     },
     "metadata": {
      "needs_background": "light"
     },
     "output_type": "display_data"
    }
   ],
   "source": [
    "sns.pairplot(newWorldDf)"
   ]
  },
  {
   "cell_type": "code",
   "execution_count": 14,
   "metadata": {},
   "outputs": [
    {
     "name": "stdout",
     "output_type": "stream",
     "text": [
      "Minimum Population\n",
      "\n"
     ]
    },
    {
     "data": {
      "text/html": [
       "<div>\n",
       "<style scoped>\n",
       "    .dataframe tbody tr th:only-of-type {\n",
       "        vertical-align: middle;\n",
       "    }\n",
       "\n",
       "    .dataframe tbody tr th {\n",
       "        vertical-align: top;\n",
       "    }\n",
       "\n",
       "    .dataframe thead th {\n",
       "        text-align: right;\n",
       "    }\n",
       "</style>\n",
       "<table border=\"1\" class=\"dataframe\">\n",
       "  <thead>\n",
       "    <tr style=\"text-align: right;\">\n",
       "      <th></th>\n",
       "      <th>Country</th>\n",
       "      <th>Per Capita Income</th>\n",
       "      <th>Population</th>\n",
       "      <th>Gini Coefficient</th>\n",
       "      <th>Human Development Index</th>\n",
       "    </tr>\n",
       "  </thead>\n",
       "  <tbody>\n",
       "    <tr>\n",
       "      <th>155</th>\n",
       "      <td>Seychelles</td>\n",
       "      <td>16332.0</td>\n",
       "      <td>0.09</td>\n",
       "      <td>46.8</td>\n",
       "      <td>79.7</td>\n",
       "    </tr>\n",
       "  </tbody>\n",
       "</table>\n",
       "</div>"
      ],
      "text/plain": [
       "        Country  Per Capita Income  Population  Gini Coefficient  \\\n",
       "155  Seychelles            16332.0        0.09              46.8   \n",
       "\n",
       "     Human Development Index  \n",
       "155                     79.7  "
      ]
     },
     "execution_count": 14,
     "metadata": {},
     "output_type": "execute_result"
    }
   ],
   "source": [
    "print('Minimum Population\\n')\n",
    "newWorldDf[newWorldDf['Population'] == newWorldDf['Population'].min()]"
   ]
  },
  {
   "cell_type": "code",
   "execution_count": 15,
   "metadata": {},
   "outputs": [
    {
     "name": "stdout",
     "output_type": "stream",
     "text": [
      "Maximum Population\n",
      "\n"
     ]
    },
    {
     "data": {
      "text/html": [
       "<div>\n",
       "<style scoped>\n",
       "    .dataframe tbody tr th:only-of-type {\n",
       "        vertical-align: middle;\n",
       "    }\n",
       "\n",
       "    .dataframe tbody tr th {\n",
       "        vertical-align: top;\n",
       "    }\n",
       "\n",
       "    .dataframe thead th {\n",
       "        text-align: right;\n",
       "    }\n",
       "</style>\n",
       "<table border=\"1\" class=\"dataframe\">\n",
       "  <thead>\n",
       "    <tr style=\"text-align: right;\">\n",
       "      <th></th>\n",
       "      <th>Country</th>\n",
       "      <th>Per Capita Income</th>\n",
       "      <th>Population</th>\n",
       "      <th>Gini Coefficient</th>\n",
       "      <th>Human Development Index</th>\n",
       "    </tr>\n",
       "  </thead>\n",
       "  <tbody>\n",
       "    <tr>\n",
       "      <th>35</th>\n",
       "      <td>China</td>\n",
       "      <td>10099.0</td>\n",
       "      <td>1403.5</td>\n",
       "      <td>46.2</td>\n",
       "      <td>0.752</td>\n",
       "    </tr>\n",
       "  </tbody>\n",
       "</table>\n",
       "</div>"
      ],
      "text/plain": [
       "   Country  Per Capita Income  Population  Gini Coefficient  \\\n",
       "35   China            10099.0      1403.5              46.2   \n",
       "\n",
       "    Human Development Index  \n",
       "35                    0.752  "
      ]
     },
     "execution_count": 15,
     "metadata": {},
     "output_type": "execute_result"
    }
   ],
   "source": [
    "print('Maximum Population\\n')\n",
    "worldDf[worldDf['Population'] == worldDf['Population'].max()]"
   ]
  },
  {
   "cell_type": "code",
   "execution_count": 16,
   "metadata": {},
   "outputs": [
    {
     "name": "stdout",
     "output_type": "stream",
     "text": [
      "Minimum Per Capita Income\n",
      "\n"
     ]
    },
    {
     "data": {
      "text/html": [
       "<div>\n",
       "<style scoped>\n",
       "    .dataframe tbody tr th:only-of-type {\n",
       "        vertical-align: middle;\n",
       "    }\n",
       "\n",
       "    .dataframe tbody tr th {\n",
       "        vertical-align: top;\n",
       "    }\n",
       "\n",
       "    .dataframe thead th {\n",
       "        text-align: right;\n",
       "    }\n",
       "</style>\n",
       "<table border=\"1\" class=\"dataframe\">\n",
       "  <thead>\n",
       "    <tr style=\"text-align: right;\">\n",
       "      <th></th>\n",
       "      <th>Country</th>\n",
       "      <th>Per Capita Income</th>\n",
       "      <th>Population</th>\n",
       "      <th>Gini Coefficient</th>\n",
       "      <th>Human Development Index</th>\n",
       "    </tr>\n",
       "  </thead>\n",
       "  <tbody>\n",
       "    <tr>\n",
       "      <th>166</th>\n",
       "      <td>Sudan, South</td>\n",
       "      <td>246.0</td>\n",
       "      <td>8.26</td>\n",
       "      <td>45.5</td>\n",
       "      <td>38.8</td>\n",
       "    </tr>\n",
       "  </tbody>\n",
       "</table>\n",
       "</div>"
      ],
      "text/plain": [
       "          Country  Per Capita Income  Population  Gini Coefficient  \\\n",
       "166  Sudan, South              246.0        8.26              45.5   \n",
       "\n",
       "     Human Development Index  \n",
       "166                     38.8  "
      ]
     },
     "execution_count": 16,
     "metadata": {},
     "output_type": "execute_result"
    }
   ],
   "source": [
    "print('Minimum Per Capita Income\\n')\n",
    "newWorldDf[newWorldDf['Per Capita Income'] == newWorldDf['Per Capita Income'].min()]"
   ]
  },
  {
   "cell_type": "code",
   "execution_count": 17,
   "metadata": {},
   "outputs": [
    {
     "name": "stdout",
     "output_type": "stream",
     "text": [
      "Maximum Per Capita Income\n",
      "\n"
     ]
    },
    {
     "data": {
      "text/html": [
       "<div>\n",
       "<style scoped>\n",
       "    .dataframe tbody tr th:only-of-type {\n",
       "        vertical-align: middle;\n",
       "    }\n",
       "\n",
       "    .dataframe tbody tr th {\n",
       "        vertical-align: top;\n",
       "    }\n",
       "\n",
       "    .dataframe thead th {\n",
       "        text-align: right;\n",
       "    }\n",
       "</style>\n",
       "<table border=\"1\" class=\"dataframe\">\n",
       "  <thead>\n",
       "    <tr style=\"text-align: right;\">\n",
       "      <th></th>\n",
       "      <th>Country</th>\n",
       "      <th>Per Capita Income</th>\n",
       "      <th>Population</th>\n",
       "      <th>Gini Coefficient</th>\n",
       "      <th>Human Development Index</th>\n",
       "    </tr>\n",
       "  </thead>\n",
       "  <tbody>\n",
       "    <tr>\n",
       "      <th>103</th>\n",
       "      <td>Luxembourg</td>\n",
       "      <td>125364.0</td>\n",
       "      <td>0.6</td>\n",
       "      <td>30.9</td>\n",
       "      <td>90.4</td>\n",
       "    </tr>\n",
       "  </tbody>\n",
       "</table>\n",
       "</div>"
      ],
      "text/plain": [
       "        Country  Per Capita Income  Population  Gini Coefficient  \\\n",
       "103  Luxembourg           125364.0         0.6              30.9   \n",
       "\n",
       "     Human Development Index  \n",
       "103                     90.4  "
      ]
     },
     "execution_count": 17,
     "metadata": {},
     "output_type": "execute_result"
    }
   ],
   "source": [
    "print('Maximum Per Capita Income\\n')\n",
    "newWorldDf[newWorldDf['Per Capita Income'] == newWorldDf['Per Capita Income'].max()]"
   ]
  },
  {
   "cell_type": "code",
   "execution_count": 18,
   "metadata": {},
   "outputs": [
    {
     "name": "stdout",
     "output_type": "stream",
     "text": [
      "Minimum Gini Coefficient\n",
      "\n"
     ]
    },
    {
     "data": {
      "text/html": [
       "<div>\n",
       "<style scoped>\n",
       "    .dataframe tbody tr th:only-of-type {\n",
       "        vertical-align: middle;\n",
       "    }\n",
       "\n",
       "    .dataframe tbody tr th {\n",
       "        vertical-align: top;\n",
       "    }\n",
       "\n",
       "    .dataframe thead th {\n",
       "        text-align: right;\n",
       "    }\n",
       "</style>\n",
       "<table border=\"1\" class=\"dataframe\">\n",
       "  <thead>\n",
       "    <tr style=\"text-align: right;\">\n",
       "      <th></th>\n",
       "      <th>Country</th>\n",
       "      <th>Per Capita Income</th>\n",
       "      <th>Population</th>\n",
       "      <th>Gini Coefficient</th>\n",
       "      <th>Human Development Index</th>\n",
       "    </tr>\n",
       "  </thead>\n",
       "  <tbody>\n",
       "    <tr>\n",
       "      <th>10</th>\n",
       "      <td>Azerbaijan</td>\n",
       "      <td>4586.0</td>\n",
       "      <td>9.98</td>\n",
       "      <td>16.6</td>\n",
       "      <td>0.757</td>\n",
       "    </tr>\n",
       "  </tbody>\n",
       "</table>\n",
       "</div>"
      ],
      "text/plain": [
       "       Country  Per Capita Income  Population  Gini Coefficient  \\\n",
       "10  Azerbaijan             4586.0        9.98              16.6   \n",
       "\n",
       "    Human Development Index  \n",
       "10                    0.757  "
      ]
     },
     "execution_count": 18,
     "metadata": {},
     "output_type": "execute_result"
    }
   ],
   "source": [
    "print('Minimum Gini Coefficient\\n')\n",
    "worldDf[worldDf['Gini Coefficient'] == worldDf['Gini Coefficient'].min()]"
   ]
  },
  {
   "cell_type": "code",
   "execution_count": 19,
   "metadata": {},
   "outputs": [
    {
     "name": "stdout",
     "output_type": "stream",
     "text": [
      "Maximum Gini Coefficient\n",
      "\n"
     ]
    },
    {
     "data": {
      "text/html": [
       "<div>\n",
       "<style scoped>\n",
       "    .dataframe tbody tr th:only-of-type {\n",
       "        vertical-align: middle;\n",
       "    }\n",
       "\n",
       "    .dataframe tbody tr th {\n",
       "        vertical-align: top;\n",
       "    }\n",
       "\n",
       "    .dataframe thead th {\n",
       "        text-align: right;\n",
       "    }\n",
       "</style>\n",
       "<table border=\"1\" class=\"dataframe\">\n",
       "  <thead>\n",
       "    <tr style=\"text-align: right;\">\n",
       "      <th></th>\n",
       "      <th>Country</th>\n",
       "      <th>Per Capita Income</th>\n",
       "      <th>Population</th>\n",
       "      <th>Gini Coefficient</th>\n",
       "      <th>Human Development Index</th>\n",
       "    </tr>\n",
       "  </thead>\n",
       "  <tbody>\n",
       "    <tr>\n",
       "      <th>162</th>\n",
       "      <td>South Africa</td>\n",
       "      <td>6609.0</td>\n",
       "      <td>57.73</td>\n",
       "      <td>63.0</td>\n",
       "      <td>0.699</td>\n",
       "    </tr>\n",
       "  </tbody>\n",
       "</table>\n",
       "</div>"
      ],
      "text/plain": [
       "          Country  Per Capita Income  Population  Gini Coefficient  \\\n",
       "162  South Africa             6609.0       57.73              63.0   \n",
       "\n",
       "     Human Development Index  \n",
       "162                    0.699  "
      ]
     },
     "execution_count": 19,
     "metadata": {},
     "output_type": "execute_result"
    }
   ],
   "source": [
    "print('Maximum Gini Coefficient\\n')\n",
    "worldDf[worldDf['Gini Coefficient'] == worldDf['Gini Coefficient'].max()]"
   ]
  },
  {
   "cell_type": "code",
   "execution_count": 20,
   "metadata": {},
   "outputs": [
    {
     "name": "stdout",
     "output_type": "stream",
     "text": [
      "Minimum Human Development Index\n",
      "\n"
     ]
    },
    {
     "data": {
      "text/html": [
       "<div>\n",
       "<style scoped>\n",
       "    .dataframe tbody tr th:only-of-type {\n",
       "        vertical-align: middle;\n",
       "    }\n",
       "\n",
       "    .dataframe tbody tr th {\n",
       "        vertical-align: top;\n",
       "    }\n",
       "\n",
       "    .dataframe thead th {\n",
       "        text-align: right;\n",
       "    }\n",
       "</style>\n",
       "<table border=\"1\" class=\"dataframe\">\n",
       "  <thead>\n",
       "    <tr style=\"text-align: right;\">\n",
       "      <th></th>\n",
       "      <th>Country</th>\n",
       "      <th>Per Capita Income</th>\n",
       "      <th>Population</th>\n",
       "      <th>Gini Coefficient</th>\n",
       "      <th>Human Development Index</th>\n",
       "    </tr>\n",
       "  </thead>\n",
       "  <tbody>\n",
       "    <tr>\n",
       "      <th>128</th>\n",
       "      <td>Niger</td>\n",
       "      <td>510.0</td>\n",
       "      <td>20.67</td>\n",
       "      <td>34.0</td>\n",
       "      <td>0.354</td>\n",
       "    </tr>\n",
       "  </tbody>\n",
       "</table>\n",
       "</div>"
      ],
      "text/plain": [
       "    Country  Per Capita Income  Population  Gini Coefficient  \\\n",
       "128   Niger              510.0       20.67              34.0   \n",
       "\n",
       "     Human Development Index  \n",
       "128                    0.354  "
      ]
     },
     "execution_count": 20,
     "metadata": {},
     "output_type": "execute_result"
    }
   ],
   "source": [
    "print('Minimum Human Development Index\\n')\n",
    "worldDf[worldDf['Human Development Index'] == worldDf['Human Development Index'].min()]"
   ]
  },
  {
   "cell_type": "code",
   "execution_count": 21,
   "metadata": {},
   "outputs": [
    {
     "name": "stdout",
     "output_type": "stream",
     "text": [
      "Maximum Human Development Index\n",
      "\n"
     ]
    },
    {
     "data": {
      "text/html": [
       "<div>\n",
       "<style scoped>\n",
       "    .dataframe tbody tr th:only-of-type {\n",
       "        vertical-align: middle;\n",
       "    }\n",
       "\n",
       "    .dataframe tbody tr th {\n",
       "        vertical-align: top;\n",
       "    }\n",
       "\n",
       "    .dataframe thead th {\n",
       "        text-align: right;\n",
       "    }\n",
       "</style>\n",
       "<table border=\"1\" class=\"dataframe\">\n",
       "  <thead>\n",
       "    <tr style=\"text-align: right;\">\n",
       "      <th></th>\n",
       "      <th>Country</th>\n",
       "      <th>Per Capita Income</th>\n",
       "      <th>Population</th>\n",
       "      <th>Gini Coefficient</th>\n",
       "      <th>Human Development Index</th>\n",
       "    </tr>\n",
       "  </thead>\n",
       "  <tbody>\n",
       "    <tr>\n",
       "      <th>131</th>\n",
       "      <td>Norway</td>\n",
       "      <td>82711.0</td>\n",
       "      <td>5.33</td>\n",
       "      <td>26.1</td>\n",
       "      <td>0.953</td>\n",
       "    </tr>\n",
       "  </tbody>\n",
       "</table>\n",
       "</div>"
      ],
      "text/plain": [
       "    Country  Per Capita Income  Population  Gini Coefficient  \\\n",
       "131  Norway            82711.0        5.33              26.1   \n",
       "\n",
       "     Human Development Index  \n",
       "131                    0.953  "
      ]
     },
     "execution_count": 21,
     "metadata": {},
     "output_type": "execute_result"
    }
   ],
   "source": [
    "print('Maximum Human Development Index\\n')\n",
    "worldDf[worldDf['Human Development Index'] == worldDf['Human Development Index'].max()]"
   ]
  },
  {
   "cell_type": "code",
   "execution_count": 22,
   "metadata": {},
   "outputs": [],
   "source": [
    "#newWorldDf[]"
   ]
  },
  {
   "cell_type": "code",
   "execution_count": 23,
   "metadata": {},
   "outputs": [],
   "source": [
    "x = list(newWorldDf['Per Capita Income'])\n",
    "y = list(newWorldDf['Human Development Index'])\n",
    "z = list(newWorldDf['Population']*5)\n",
    "c = list(newWorldDf['Country'])\n",
    "\n",
    "def incomeCat(income):\n",
    "    if income < 1000:\n",
    "        return 'black'\n",
    "    elif income >= 1000 and income < 2000:\n",
    "        return 'red'\n",
    "    elif income >= 2000 and income < 4000:\n",
    "        return 'orange'\n",
    "    elif income >= 4000 and income < 10000:\n",
    "        return 'yellow'\n",
    "    elif income >= 10000 and income < 20000:\n",
    "        return 'magenta'\n",
    "    elif income >= 20000 and income < 40000:\n",
    "        return 'cyan'\n",
    "    elif income >= 40000 and income < 80000:\n",
    "        return 'green'\n",
    "    else:\n",
    "        return 'blue'"
   ]
  },
  {
   "cell_type": "code",
   "execution_count": 24,
   "metadata": {},
   "outputs": [],
   "source": [
    "clr = list(map(incomeCat,newWorldDf['Per Capita Income']))"
   ]
  },
  {
   "cell_type": "code",
   "execution_count": 25,
   "metadata": {},
   "outputs": [
    {
     "data": {
      "image/png": "[encoded data removed]",
      "text/plain": [
       "<Figure size 1440x720 with 1 Axes>"
      ]
     },
     "metadata": {
      "needs_background": "light"
     },
     "output_type": "display_data"
    }
   ],
   "source": [
    "plt.figure(figsize = (20,10))\n",
    "plt.scatter(x,y,s = z, alpha= 0.5,color = clr)\n",
    "plt.title('Income vs HDI')\n",
    "plt.xlabel('Per Capita Income(in USD per anuum)')\n",
    "plt.ylabel('Human Development Index')\n",
    "plt.show()"
   ]
  },
  {
   "cell_type": "code",
   "execution_count": 34,
   "metadata": {},
   "outputs": [
    {
     "data": {
      "text/html": [
       "<script type=\"text/javascript\">window.PlotlyConfig = {MathJaxConfig: 'local'};</script><script type=\"text/javascript\">if (window.MathJax) {MathJax.Hub.Config({SVG: {font: \"STIX-Web\"}});}</script><script>requirejs.config({paths: { 'plotly': ['https://cdn.plot.ly/plotly-latest.min']},});if(!window._Plotly) {require(['plotly'],function(plotly) {window._Plotly=plotly;});}</script>"
      ],
      "text/vnd.plotly.v1+html": [
       "<script type=\"text/javascript\">window.PlotlyConfig = {MathJaxConfig: 'local'};</script><script type=\"text/javascript\">if (window.MathJax) {MathJax.Hub.Config({SVG: {font: \"STIX-Web\"}});}</script><script>requirejs.config({paths: { 'plotly': ['https://cdn.plot.ly/plotly-latest.min']},});if(!window._Plotly) {require(['plotly'],function(plotly) {window._Plotly=plotly;});}</script>"
      ]
     },
     "metadata": {},
     "output_type": "display_data"
    }
   ],
   "source": [
    "import plotly as py\n",
    "import plotly.graph_objs as go\n",
    "py.offline.init_notebook_mode(connected = True)"
   ]
  },
  {
   "cell_type": "code",
   "execution_count": 35,
   "metadata": {},
   "outputs": [
    {
     "data": {
      "text/html": [
       "<div>\n",
       "<style scoped>\n",
       "    .dataframe tbody tr th:only-of-type {\n",
       "        vertical-align: middle;\n",
       "    }\n",
       "\n",
       "    .dataframe tbody tr th {\n",
       "        vertical-align: top;\n",
       "    }\n",
       "\n",
       "    .dataframe thead th {\n",
       "        text-align: right;\n",
       "    }\n",
       "</style>\n",
       "<table border=\"1\" class=\"dataframe\">\n",
       "  <thead>\n",
       "    <tr style=\"text-align: right;\">\n",
       "      <th></th>\n",
       "      <th>Country</th>\n",
       "      <th>Per Capita Income</th>\n",
       "      <th>Population</th>\n",
       "      <th>Gini Coefficient</th>\n",
       "      <th>Human Development Index</th>\n",
       "    </tr>\n",
       "  </thead>\n",
       "  <tbody>\n",
       "    <tr>\n",
       "      <th>0</th>\n",
       "      <td>Afghanistan</td>\n",
       "      <td>601.0</td>\n",
       "      <td>0.65</td>\n",
       "      <td>27.8</td>\n",
       "      <td>49.8</td>\n",
       "    </tr>\n",
       "    <tr>\n",
       "      <th>1</th>\n",
       "      <td>Albania</td>\n",
       "      <td>5261.0</td>\n",
       "      <td>2.82</td>\n",
       "      <td>34.5</td>\n",
       "      <td>78.5</td>\n",
       "    </tr>\n",
       "    <tr>\n",
       "      <th>2</th>\n",
       "      <td>Algeria</td>\n",
       "      <td>4645.0</td>\n",
       "      <td>42.20</td>\n",
       "      <td>27.6</td>\n",
       "      <td>75.4</td>\n",
       "    </tr>\n",
       "    <tr>\n",
       "      <th>6</th>\n",
       "      <td>Argentina</td>\n",
       "      <td>9054.0</td>\n",
       "      <td>40.12</td>\n",
       "      <td>40.6</td>\n",
       "      <td>82.5</td>\n",
       "    </tr>\n",
       "    <tr>\n",
       "      <th>7</th>\n",
       "      <td>Armenia</td>\n",
       "      <td>4446.0</td>\n",
       "      <td>3.02</td>\n",
       "      <td>32.5</td>\n",
       "      <td>75.5</td>\n",
       "    </tr>\n",
       "  </tbody>\n",
       "</table>\n",
       "</div>"
      ],
      "text/plain": [
       "       Country  Per Capita Income  Population  Gini Coefficient  \\\n",
       "0  Afghanistan              601.0        0.65              27.8   \n",
       "1      Albania             5261.0        2.82              34.5   \n",
       "2      Algeria             4645.0       42.20              27.6   \n",
       "6    Argentina             9054.0       40.12              40.6   \n",
       "7      Armenia             4446.0        3.02              32.5   \n",
       "\n",
       "   Human Development Index  \n",
       "0                     49.8  \n",
       "1                     78.5  \n",
       "2                     75.4  \n",
       "6                     82.5  \n",
       "7                     75.5  "
      ]
     },
     "execution_count": 35,
     "metadata": {},
     "output_type": "execute_result"
    }
   ],
   "source": [
    "newWorldDf.head()"
   ]
  },
  {
   "cell_type": "code",
   "execution_count": 36,
   "metadata": {},
   "outputs": [],
   "source": [
    "layout = go.Layout(\n",
    "    title = 'Income vs HDI',\n",
    "    xaxis = dict(\n",
    "        title = 'Per Capita Income(US $/year)',\n",
    "        range = [0,140000]\n",
    "    ),\n",
    "    yaxis = dict(\n",
    "        title = 'Human Development Index',\n",
    "        range = [0,100]\n",
    "    )\n",
    ")"
   ]
  },
  {
   "cell_type": "code",
   "execution_count": 37,
   "metadata": {},
   "outputs": [],
   "source": [
    "trace1 = go.Scatter(\n",
    "    x = newWorldDf['Per Capita Income'],\n",
    "    y = newWorldDf['Human Development Index'],\n",
    "    text = newWorldDf['Country'],\n",
    "    mode = 'markers',\n",
    "    marker = dict(\n",
    "        sizemode = 'area',\n",
    "        size = newWorldDf['Population']\n",
    "    )\n",
    ")"
   ]
  },
  {
   "cell_type": "code",
   "execution_count": 38,
   "metadata": {},
   "outputs": [],
   "source": [
    "fig = go.Figure(data=[trace1], layout=layout)"
   ]
  },
  {
   "cell_type": "code",
   "execution_count": 39,
   "metadata": {
    "scrolled": true
   },
   "outputs": [
    {
     "data": {
      "application/vnd.plotly.v1+json": {
       "config": {
        "linkText": "Export to plot.ly",
        "plotlyServerURL": "https://plot.ly",
        "showLink": false
       },
       "data": [
        {
         "marker": {
          "size": [
           0.65,
           2.82,
           42.2,
           40.12,
           3.02,
           25.3,
           8.86,
           9.98,
           162.95,
           9.49,
           11.42,
           10.87,
           0.8,
           11.43,
           2.25,
           210.15,
           7.05,
           20.11,
           10.52,
           0.54,
           23.44,
           37.31,
           4.59,
           17.57,
           1403.5,
           50,
           0.85,
           78.74,
           5.13,
           4.86,
           23.74,
           4.15,
           11.22,
           1.17,
           10.61,
           5.81,
           10.74,
           16.39,
           6.34,
           1.32,
           1.34,
           102.4,
           0.91,
           5.52,
           67.35,
           1.98,
           2.05,
           83,
           28.31,
           10.82,
           17.26,
           12.4,
           1.82,
           10.85,
           9.11,
           9.8,
           0.36,
           1324.17,
           237.64,
           81.67,
           37.2,
           9.01,
           60.48,
           126.44,
           10.17,
           18.31,
           49.13,
           51.45,
           6.02,
           6.76,
           1.93,
           2.2,
           4.5,
           2.79,
           0.6,
           24.89,
           18.09,
           32.05,
           0.43,
           19.33,
           0.48,
           1.27,
           123.68,
           0.1,
           3.08,
           0.68,
           28.83,
           53.58,
           28.98,
           17.3,
           4.95,
           20.67,
           199.32,
           5.33,
           212.74,
           8.08,
           7.15,
           32.5,
           100.98,
           38.43,
           2.64,
           19.52,
           146.79,
           11.26,
           0.2,
           15.41,
           7,
           0.09,
           7.08,
           5.64,
           5.45,
           2.08,
           57.73,
           46.73,
           21.67,
           39.58,
           8.26,
           10.22,
           8.51,
           18.28,
           23.58,
           8.73,
           55.57,
           68.86,
           7.97,
           1.36,
           11.43,
           82,
           5.66,
           41.49,
           42.42,
           9.6,
           66.04,
           327.17,
           3.44,
           33.25,
           31.57,
           94.57,
           27.58,
           16.59,
           16.15
          ],
          "sizemode": "area"
         },
         "mode": "markers",
         "text": [
          "Afghanistan",
          "Albania",
          "Algeria",
          "Argentina",
          "Armenia",
          "Australia",
          "Austria",
          "Azerbaijan",
          "Bangladesh",
          "Belarus",
          "Belgium",
          "Benin",
          "Bhutan",
          "Bolivia",
          "Botswana",
          "Brazil",
          "Bulgaria",
          "Burkina Faso",
          "Burundi",
          "Cabo Verde",
          "Cameroon",
          "Canada",
          "Central African Republic",
          "Chile",
          "China",
          "Colombia",
          "Comoros",
          "Congo, Democratic  Republic of the",
          "Congo, Republic of the",
          "Costa Rica",
          "Côte d’Ivoire",
          "Croatia",
          "Cuba",
          "Cyprus",
          "Czech Republic",
          "Denmark",
          "Dominican Republic",
          "Ecuador",
          "El Salvador",
          "Estonia",
          "Eswatini",
          "Ethiopia",
          "Fiji",
          "Finland",
          "France",
          "Gabon",
          "The Gambia",
          "Germany",
          "Ghana",
          "Greece",
          "Guatemala",
          "Guinea",
          "Guinea-Bissau",
          "Haiti",
          "Honduras",
          "Hungary",
          "Iceland",
          "India",
          "Indonesia",
          "Iran",
          "Iraq",
          "Israel",
          "Italy",
          "Japan",
          "Jordan",
          "Kazakhstan",
          "Kenya",
          "Korea, South",
          "Kyrgyzstan",
          "Laos",
          "Latvia",
          "Lesotho",
          "Liberia",
          "Lithuania",
          "Luxembourg",
          "Madagascar",
          "Malawi",
          "Malaysia",
          "Maldives",
          "Mali",
          "Malta",
          "Mauritius",
          "Mexico",
          "Micronesia,  Federated States of",
          "Mongolia",
          "Montenegro",
          "Mozambique",
          "Myanmar (Burma)",
          "Nepal",
          "Netherlands",
          "New Zealand",
          "Niger",
          "Nigeria",
          "Norway",
          "Pakistan",
          "Papua New Guinea",
          "Paraguay",
          "Peru",
          "Philippines",
          "Poland",
          "Qatar",
          "Romania",
          "Russia",
          "Rwanda",
          "Sao Tome and Principe",
          "Senegal",
          "Serbia",
          "Seychelles",
          "Sierra Leone",
          "Singapore",
          "Slovakia",
          "Slovenia",
          "South Africa",
          "Spain",
          "Sri Lanka",
          "Sudan",
          "Sudan, South",
          "Sweden",
          "Switzerland",
          "Syria",
          "Taiwan",
          "Tajikistan",
          "Tanzania",
          "Thailand",
          "Togo",
          "Trinidad and Tobago",
          "Tunisia",
          "Turkey",
          "Turkmenistan",
          "Uganda",
          "Ukraine",
          "United Arab Emirates",
          "United Kingdom",
          "United States",
          "Uruguay",
          "Uzbekistan",
          "Venezuela",
          "Vietnam",
          "Yemen",
          "Zambia",
          "Zimbabwe"
         ],
         "type": "scatter",
         "uid": "a1b5f2a3-ab56-4929-8cd9-89050803b433",
         "x": [
          601,
          5261,
          4645,
          9054,
          4446,
          59655,
          53764,
          4586,
          1882,
          6372,
          46979,
          923,
          3117,
          3942,
          8443,
          9159,
          9504,
          729,
          343,
          3287,
          1544,
          48601,
          401,
          16277,
          10099,
          7049,
          894,
          446,
          1981,
          12600,
          1879,
          15137,
          8433,
          28888,
          24938,
          63829,
          8323,
          6640,
          4041,
          23653,
          4092,
          921,
          5876,
          54869,
          43500,
          8384,
          488,
          49692,
          2081,
          20930,
          4582,
          707,
          851,
          719,
          2829,
          16905,
          75700,
          2016,
          3788,
          4006,
          6116,
          43199,
          34784,
          40106,
          4228,
          10447,
          1991,
          32046,
          1254,
          2706,
          18458,
          1413,
          475,
          19881,
          125364,
          405,
          331,
          11338,
          13196,
          891,
          30555,
          11640,
          9614,
          3400,
          4097,
          8988,
          417,
          1354,
          919,
          54129,
          41616,
          510,
          2244,
          82711,
          1629,
          2504,
          6229,
          7118,
          3246,
          15313,
          66202,
          12668,
          11461,
          754,
          1668,
          1485,
          7199,
          16332,
          505,
          61766,
          20598,
          27506,
          6609,
          32559,
          4265,
          3459,
          246,
          54135,
          83583,
          2802,
          25534,
          807,
          1100,
          7084,
          621,
          15838,
          3573,
          7615,
          7411,
          700,
          3133,
          41476,
          44177,
          62518,
          17875,
          1238,
          3100,
          2552,
          925,
          1342,
          1149
         ],
         "y": [
          49.8,
          78.5,
          75.4,
          82.5,
          75.5,
          93.9,
          90.8,
          75.7,
          60.8,
          80.8,
          91.6,
          48.5,
          61.199999999999996,
          69.3,
          71.7,
          75.9,
          81.3,
          42.3,
          40.4,
          65.4,
          55.60000000000001,
          92.6,
          36.7,
          84.3,
          75.2,
          74.7,
          50.3,
          47,
          60.6,
          79.4,
          49.2,
          83.1,
          77.7,
          86.9,
          88.8,
          92.9,
          73.6,
          75.2,
          67.4,
          87.1,
          58.8,
          46.3,
          74.1,
          92,
          90.1,
          70.2,
          45.2,
          93.6,
          59.20000000000001,
          87,
          64,
          45.9,
          45.5,
          49.3,
          61.7,
          83.8,
          93.5,
          64,
          69.4,
          79.8,
          68.5,
          90.3,
          88,
          90.9,
          73.5,
          80,
          59,
          90.3,
          66.4,
          60.099999999999994,
          84.7,
          51.5,
          43.5,
          85.8,
          90.4,
          51.9,
          47.7,
          80.2,
          71.7,
          42.7,
          87.8,
          79,
          77.4,
          63.800000000000004,
          74.1,
          81.4,
          43.7,
          57.8,
          57.4,
          93.1,
          91.7,
          35.4,
          53.2,
          95.3,
          56.2,
          54.400000000000006,
          70.2,
          75,
          69.9,
          86.5,
          85.6,
          81.1,
          81.6,
          52.400000000000006,
          58.9,
          50.5,
          78.7,
          79.7,
          42,
          93.2,
          85.5,
          89.6,
          69.9,
          89.1,
          77,
          50.2,
          38.8,
          93.3,
          94.4,
          53.6,
          90.7,
          65,
          53.79999999999999,
          75.5,
          50.3,
          78.4,
          73.5,
          79.1,
          70.6,
          51.6,
          75.1,
          86.3,
          92.2,
          92.4,
          80.4,
          71,
          76.1,
          69.4,
          45.2,
          58.8,
          53.5
         ]
        }
       ],
       "layout": {
        "title": {
         "text": "Income vs HDI"
        },
        "xaxis": {
         "range": [
          0,
          140000
         ],
         "title": {
          "text": "Per Capita Income(US $/year)"
         }
        },
        "yaxis": {
         "range": [
          0,
          100
         ],
         "title": {
          "text": "Human Development Index"
         }
        }
       }
      },
      "text/html": [
       "<div id=\"630f40d2-b133-4ba9-9175-fad05c26c582\" style=\"height: 525px; width: 100%;\" class=\"plotly-graph-div\"></div><script type=\"text/javascript\">require([\"plotly\"], function(Plotly) { window.PLOTLYENV=window.PLOTLYENV || {};window.PLOTLYENV.BASE_URL=\"https://plot.ly\";\n",
       "if (document.getElementById(\"630f40d2-b133-4ba9-9175-fad05c26c582\")) {\n",
       "    Plotly.newPlot(\"630f40d2-b133-4ba9-9175-fad05c26c582\", [{\"marker\": {\"size\": [0.65, 2.82, 42.2, 40.12, 3.02, 25.3, 8.86, 9.98, 162.95, 9.49, 11.42, 10.87, 0.8, 11.43, 2.25, 210.15, 7.05, 20.11, 10.52, 0.54, 23.44, 37.31, 4.59, 17.57, 1403.5, 50.0, 0.85, 78.74, 5.13, 4.86, 23.74, 4.15, 11.22, 1.17, 10.61, 5.81, 10.74, 16.39, 6.34, 1.32, 1.34, 102.4, 0.91, 5.52, 67.35, 1.98, 2.05, 83.0, 28.31, 10.82, 17.26, 12.4, 1.82, 10.85, 9.11, 9.8, 0.36, 1324.17, 237.64, 81.67, 37.2, 9.01, 60.48, 126.44, 10.17, 18.31, 49.13, 51.45, 6.02, 6.76, 1.93, 2.2, 4.5, 2.79, 0.6, 24.89, 18.09, 32.05, 0.43, 19.33, 0.48, 1.27, 123.68, 0.1, 3.08, 0.68, 28.83, 53.58, 28.98, 17.3, 4.95, 20.67, 199.32, 5.33, 212.74, 8.08, 7.15, 32.5, 100.98, 38.43, 2.64, 19.52, 146.79, 11.26, 0.2, 15.41, 7.0, 0.09, 7.08, 5.64, 5.45, 2.08, 57.73, 46.73, 21.67, 39.58, 8.26, 10.22, 8.51, 18.28, 23.58, 8.73, 55.57, 68.86, 7.97, 1.36, 11.43, 82.0, 5.66, 41.49, 42.42, 9.6, 66.04, 327.17, 3.44, 33.25, 31.57, 94.57, 27.58, 16.59, 16.15], \"sizemode\": \"area\"}, \"mode\": \"markers\", \"text\": [\"Afghanistan\", \"Albania\", \"Algeria\", \"Argentina\", \"Armenia\", \"Australia\", \"Austria\", \"Azerbaijan\", \"Bangladesh\", \"Belarus\", \"Belgium\", \"Benin\", \"Bhutan\", \"Bolivia\", \"Botswana\", \"Brazil\", \"Bulgaria\", \"Burkina Faso\", \"Burundi\", \"Cabo Verde\", \"Cameroon\", \"Canada\", \"Central African Republic\", \"Chile\", \"China\", \"Colombia\", \"Comoros\", \"Congo, Democratic  Republic of the\", \"Congo, Republic of the\", \"Costa Rica\", \"C\\u00f4te d\\u2019Ivoire\", \"Croatia\", \"Cuba\", \"Cyprus\", \"Czech Republic\", \"Denmark\", \"Dominican Republic\", \"Ecuador\", \"El Salvador\", \"Estonia\", \"Eswatini\", \"Ethiopia\", \"Fiji\", \"Finland\", \"France\", \"Gabon\", \"The Gambia\", \"Germany\", \"Ghana\", \"Greece\", \"Guatemala\", \"Guinea\", \"Guinea-Bissau\", \"Haiti\", \"Honduras\", \"Hungary\", \"Iceland\", \"India\", \"Indonesia\", \"Iran\", \"Iraq\", \"Israel\", \"Italy\", \"Japan\", \"Jordan\", \"Kazakhstan\", \"Kenya\", \"Korea, South\", \"Kyrgyzstan\", \"Laos\", \"Latvia\", \"Lesotho\", \"Liberia\", \"Lithuania\", \"Luxembourg\", \"Madagascar\", \"Malawi\", \"Malaysia\", \"Maldives\", \"Mali\", \"Malta\", \"Mauritius\", \"Mexico\", \"Micronesia,  Federated States of\", \"Mongolia\", \"Montenegro\", \"Mozambique\", \"Myanmar (Burma)\", \"Nepal\", \"Netherlands\", \"New Zealand\", \"Niger\", \"Nigeria\", \"Norway\", \"Pakistan\", \"Papua New Guinea\", \"Paraguay\", \"Peru\", \"Philippines\", \"Poland\", \"Qatar\", \"Romania\", \"Russia\", \"Rwanda\", \"Sao Tome and Principe\", \"Senegal\", \"Serbia\", \"Seychelles\", \"Sierra Leone\", \"Singapore\", \"Slovakia\", \"Slovenia\", \"South Africa\", \"Spain\", \"Sri Lanka\", \"Sudan\", \"Sudan, South\", \"Sweden\", \"Switzerland\", \"Syria\", \"Taiwan\", \"Tajikistan\", \"Tanzania\", \"Thailand\", \"Togo\", \"Trinidad and Tobago\", \"Tunisia\", \"Turkey\", \"Turkmenistan\", \"Uganda\", \"Ukraine\", \"United Arab Emirates\", \"United Kingdom\", \"United States\", \"Uruguay\", \"Uzbekistan\", \"Venezuela\", \"Vietnam\", \"Yemen\", \"Zambia\", \"Zimbabwe\"], \"x\": [601.0, 5261.0, 4645.0, 9054.0, 4446.0, 59655.0, 53764.0, 4586.0, 1882.0, 6372.0, 46979.0, 923.0, 3117.0, 3942.0, 8443.0, 9159.0, 9504.0, 729.0, 343.0, 3287.0, 1544.0, 48601.0, 401.0, 16277.0, 10099.0, 7049.0, 894.0, 446.0, 1981.0, 12600.0, 1879.0, 15137.0, 8433.0, 28888.0, 24938.0, 63829.0, 8323.0, 6640.0, 4041.0, 23653.0, 4092.0, 921.0, 5876.0, 54869.0, 43500.0, 8384.0, 488.0, 49692.0, 2081.0, 20930.0, 4582.0, 707.0, 851.0, 719.0, 2829.0, 16905.0, 75700.0, 2016.0, 3788.0, 4006.0, 6116.0, 43199.0, 34784.0, 40106.0, 4228.0, 10447.0, 1991.0, 32046.0, 1254.0, 2706.0, 18458.0, 1413.0, 475.0, 19881.0, 125364.0, 405.0, 331.0, 11338.0, 13196.0, 891.0, 30555.0, 11640.0, 9614.0, 3400.0, 4097.0, 8988.0, 417.0, 1354.0, 919.0, 54129.0, 41616.0, 510.0, 2244.0, 82711.0, 1629.0, 2504.0, 6229.0, 7118.0, 3246.0, 15313.0, 66202.0, 12668.0, 11461.0, 754.0, 1668.0, 1485.0, 7199.0, 16332.0, 505.0, 61766.0, 20598.0, 27506.0, 6609.0, 32559.0, 4265.0, 3459.0, 246.0, 54135.0, 83583.0, 2802.0, 25534.0, 807.0, 1100.0, 7084.0, 621.0, 15838.0, 3573.0, 7615.0, 7411.0, 700.0, 3133.0, 41476.0, 44177.0, 62518.0, 17875.0, 1238.0, 3100.0, 2552.0, 925.0, 1342.0, 1149.0], \"y\": [49.8, 78.5, 75.4, 82.5, 75.5, 93.9, 90.8, 75.7, 60.8, 80.8, 91.6, 48.5, 61.199999999999996, 69.3, 71.7, 75.9, 81.3, 42.3, 40.4, 65.4, 55.60000000000001, 92.6, 36.7, 84.3, 75.2, 74.7, 50.3, 47.0, 60.6, 79.4, 49.2, 83.1, 77.7, 86.9, 88.8, 92.9, 73.6, 75.2, 67.4, 87.1, 58.8, 46.3, 74.1, 92.0, 90.1, 70.2, 45.2, 93.6, 59.20000000000001, 87.0, 64.0, 45.9, 45.5, 49.3, 61.7, 83.8, 93.5, 64.0, 69.4, 79.8, 68.5, 90.3, 88.0, 90.9, 73.5, 80.0, 59.0, 90.3, 66.4, 60.099999999999994, 84.7, 51.5, 43.5, 85.8, 90.4, 51.9, 47.7, 80.2, 71.7, 42.7, 87.8, 79.0, 77.4, 63.800000000000004, 74.1, 81.4, 43.7, 57.8, 57.4, 93.1, 91.7, 35.4, 53.2, 95.3, 56.2, 54.400000000000006, 70.2, 75.0, 69.9, 86.5, 85.6, 81.1, 81.6, 52.400000000000006, 58.9, 50.5, 78.7, 79.7, 42.0, 93.2, 85.5, 89.6, 69.9, 89.1, 77.0, 50.2, 38.8, 93.3, 94.4, 53.6, 90.7, 65.0, 53.79999999999999, 75.5, 50.3, 78.4, 73.5, 79.1, 70.6, 51.6, 75.1, 86.3, 92.2, 92.4, 80.4, 71.0, 76.1, 69.4, 45.2, 58.8, 53.5], \"type\": \"scatter\", \"uid\": \"a1b5f2a3-ab56-4929-8cd9-89050803b433\"}], {\"title\": {\"text\": \"Income vs HDI\"}, \"xaxis\": {\"range\": [0, 140000], \"title\": {\"text\": \"Per Capita Income(US $/year)\"}}, \"yaxis\": {\"range\": [0, 100], \"title\": {\"text\": \"Human Development Index\"}}}, {\"showLink\": false, \"linkText\": \"Export to plot.ly\", \"plotlyServerURL\": \"https://plot.ly\"}); \n",
       "}\n",
       "});</script><script type=\"text/javascript\">window.addEventListener(\"resize\", function(){if (document.getElementById(\"630f40d2-b133-4ba9-9175-fad05c26c582\")) {window._Plotly.Plots.resize(document.getElementById(\"630f40d2-b133-4ba9-9175-fad05c26c582\"));};})</script>"
      ],
      "text/vnd.plotly.v1+html": [
       "<div id=\"630f40d2-b133-4ba9-9175-fad05c26c582\" style=\"height: 525px; width: 100%;\" class=\"plotly-graph-div\"></div><script type=\"text/javascript\">require([\"plotly\"], function(Plotly) { window.PLOTLYENV=window.PLOTLYENV || {};window.PLOTLYENV.BASE_URL=\"https://plot.ly\";\n",
       "if (document.getElementById(\"630f40d2-b133-4ba9-9175-fad05c26c582\")) {\n",
       "    Plotly.newPlot(\"630f40d2-b133-4ba9-9175-fad05c26c582\", [{\"marker\": {\"size\": [0.65, 2.82, 42.2, 40.12, 3.02, 25.3, 8.86, 9.98, 162.95, 9.49, 11.42, 10.87, 0.8, 11.43, 2.25, 210.15, 7.05, 20.11, 10.52, 0.54, 23.44, 37.31, 4.59, 17.57, 1403.5, 50.0, 0.85, 78.74, 5.13, 4.86, 23.74, 4.15, 11.22, 1.17, 10.61, 5.81, 10.74, 16.39, 6.34, 1.32, 1.34, 102.4, 0.91, 5.52, 67.35, 1.98, 2.05, 83.0, 28.31, 10.82, 17.26, 12.4, 1.82, 10.85, 9.11, 9.8, 0.36, 1324.17, 237.64, 81.67, 37.2, 9.01, 60.48, 126.44, 10.17, 18.31, 49.13, 51.45, 6.02, 6.76, 1.93, 2.2, 4.5, 2.79, 0.6, 24.89, 18.09, 32.05, 0.43, 19.33, 0.48, 1.27, 123.68, 0.1, 3.08, 0.68, 28.83, 53.58, 28.98, 17.3, 4.95, 20.67, 199.32, 5.33, 212.74, 8.08, 7.15, 32.5, 100.98, 38.43, 2.64, 19.52, 146.79, 11.26, 0.2, 15.41, 7.0, 0.09, 7.08, 5.64, 5.45, 2.08, 57.73, 46.73, 21.67, 39.58, 8.26, 10.22, 8.51, 18.28, 23.58, 8.73, 55.57, 68.86, 7.97, 1.36, 11.43, 82.0, 5.66, 41.49, 42.42, 9.6, 66.04, 327.17, 3.44, 33.25, 31.57, 94.57, 27.58, 16.59, 16.15], \"sizemode\": \"area\"}, \"mode\": \"markers\", \"text\": [\"Afghanistan\", \"Albania\", \"Algeria\", \"Argentina\", \"Armenia\", \"Australia\", \"Austria\", \"Azerbaijan\", \"Bangladesh\", \"Belarus\", \"Belgium\", \"Benin\", \"Bhutan\", \"Bolivia\", \"Botswana\", \"Brazil\", \"Bulgaria\", \"Burkina Faso\", \"Burundi\", \"Cabo Verde\", \"Cameroon\", \"Canada\", \"Central African Republic\", \"Chile\", \"China\", \"Colombia\", \"Comoros\", \"Congo, Democratic  Republic of the\", \"Congo, Republic of the\", \"Costa Rica\", \"C\\u00f4te d\\u2019Ivoire\", \"Croatia\", \"Cuba\", \"Cyprus\", \"Czech Republic\", \"Denmark\", \"Dominican Republic\", \"Ecuador\", \"El Salvador\", \"Estonia\", \"Eswatini\", \"Ethiopia\", \"Fiji\", \"Finland\", \"France\", \"Gabon\", \"The Gambia\", \"Germany\", \"Ghana\", \"Greece\", \"Guatemala\", \"Guinea\", \"Guinea-Bissau\", \"Haiti\", \"Honduras\", \"Hungary\", \"Iceland\", \"India\", \"Indonesia\", \"Iran\", \"Iraq\", \"Israel\", \"Italy\", \"Japan\", \"Jordan\", \"Kazakhstan\", \"Kenya\", \"Korea, South\", \"Kyrgyzstan\", \"Laos\", \"Latvia\", \"Lesotho\", \"Liberia\", \"Lithuania\", \"Luxembourg\", \"Madagascar\", \"Malawi\", \"Malaysia\", \"Maldives\", \"Mali\", \"Malta\", \"Mauritius\", \"Mexico\", \"Micronesia,  Federated States of\", \"Mongolia\", \"Montenegro\", \"Mozambique\", \"Myanmar (Burma)\", \"Nepal\", \"Netherlands\", \"New Zealand\", \"Niger\", \"Nigeria\", \"Norway\", \"Pakistan\", \"Papua New Guinea\", \"Paraguay\", \"Peru\", \"Philippines\", \"Poland\", \"Qatar\", \"Romania\", \"Russia\", \"Rwanda\", \"Sao Tome and Principe\", \"Senegal\", \"Serbia\", \"Seychelles\", \"Sierra Leone\", \"Singapore\", \"Slovakia\", \"Slovenia\", \"South Africa\", \"Spain\", \"Sri Lanka\", \"Sudan\", \"Sudan, South\", \"Sweden\", \"Switzerland\", \"Syria\", \"Taiwan\", \"Tajikistan\", \"Tanzania\", \"Thailand\", \"Togo\", \"Trinidad and Tobago\", \"Tunisia\", \"Turkey\", \"Turkmenistan\", \"Uganda\", \"Ukraine\", \"United Arab Emirates\", \"United Kingdom\", \"United States\", \"Uruguay\", \"Uzbekistan\", \"Venezuela\", \"Vietnam\", \"Yemen\", \"Zambia\", \"Zimbabwe\"], \"x\": [601.0, 5261.0, 4645.0, 9054.0, 4446.0, 59655.0, 53764.0, 4586.0, 1882.0, 6372.0, 46979.0, 923.0, 3117.0, 3942.0, 8443.0, 9159.0, 9504.0, 729.0, 343.0, 3287.0, 1544.0, 48601.0, 401.0, 16277.0, 10099.0, 7049.0, 894.0, 446.0, 1981.0, 12600.0, 1879.0, 15137.0, 8433.0, 28888.0, 24938.0, 63829.0, 8323.0, 6640.0, 4041.0, 23653.0, 4092.0, 921.0, 5876.0, 54869.0, 43500.0, 8384.0, 488.0, 49692.0, 2081.0, 20930.0, 4582.0, 707.0, 851.0, 719.0, 2829.0, 16905.0, 75700.0, 2016.0, 3788.0, 4006.0, 6116.0, 43199.0, 34784.0, 40106.0, 4228.0, 10447.0, 1991.0, 32046.0, 1254.0, 2706.0, 18458.0, 1413.0, 475.0, 19881.0, 125364.0, 405.0, 331.0, 11338.0, 13196.0, 891.0, 30555.0, 11640.0, 9614.0, 3400.0, 4097.0, 8988.0, 417.0, 1354.0, 919.0, 54129.0, 41616.0, 510.0, 2244.0, 82711.0, 1629.0, 2504.0, 6229.0, 7118.0, 3246.0, 15313.0, 66202.0, 12668.0, 11461.0, 754.0, 1668.0, 1485.0, 7199.0, 16332.0, 505.0, 61766.0, 20598.0, 27506.0, 6609.0, 32559.0, 4265.0, 3459.0, 246.0, 54135.0, 83583.0, 2802.0, 25534.0, 807.0, 1100.0, 7084.0, 621.0, 15838.0, 3573.0, 7615.0, 7411.0, 700.0, 3133.0, 41476.0, 44177.0, 62518.0, 17875.0, 1238.0, 3100.0, 2552.0, 925.0, 1342.0, 1149.0], \"y\": [49.8, 78.5, 75.4, 82.5, 75.5, 93.9, 90.8, 75.7, 60.8, 80.8, 91.6, 48.5, 61.199999999999996, 69.3, 71.7, 75.9, 81.3, 42.3, 40.4, 65.4, 55.60000000000001, 92.6, 36.7, 84.3, 75.2, 74.7, 50.3, 47.0, 60.6, 79.4, 49.2, 83.1, 77.7, 86.9, 88.8, 92.9, 73.6, 75.2, 67.4, 87.1, 58.8, 46.3, 74.1, 92.0, 90.1, 70.2, 45.2, 93.6, 59.20000000000001, 87.0, 64.0, 45.9, 45.5, 49.3, 61.7, 83.8, 93.5, 64.0, 69.4, 79.8, 68.5, 90.3, 88.0, 90.9, 73.5, 80.0, 59.0, 90.3, 66.4, 60.099999999999994, 84.7, 51.5, 43.5, 85.8, 90.4, 51.9, 47.7, 80.2, 71.7, 42.7, 87.8, 79.0, 77.4, 63.800000000000004, 74.1, 81.4, 43.7, 57.8, 57.4, 93.1, 91.7, 35.4, 53.2, 95.3, 56.2, 54.400000000000006, 70.2, 75.0, 69.9, 86.5, 85.6, 81.1, 81.6, 52.400000000000006, 58.9, 50.5, 78.7, 79.7, 42.0, 93.2, 85.5, 89.6, 69.9, 89.1, 77.0, 50.2, 38.8, 93.3, 94.4, 53.6, 90.7, 65.0, 53.79999999999999, 75.5, 50.3, 78.4, 73.5, 79.1, 70.6, 51.6, 75.1, 86.3, 92.2, 92.4, 80.4, 71.0, 76.1, 69.4, 45.2, 58.8, 53.5], \"type\": \"scatter\", \"uid\": \"a1b5f2a3-ab56-4929-8cd9-89050803b433\"}], {\"title\": {\"text\": \"Income vs HDI\"}, \"xaxis\": {\"range\": [0, 140000], \"title\": {\"text\": \"Per Capita Income(US $/year)\"}}, \"yaxis\": {\"range\": [0, 100], \"title\": {\"text\": \"Human Development Index\"}}}, {\"showLink\": false, \"linkText\": \"Export to plot.ly\", \"plotlyServerURL\": \"https://plot.ly\"}); \n",
       "}\n",
       "});</script><script type=\"text/javascript\">window.addEventListener(\"resize\", function(){if (document.getElementById(\"630f40d2-b133-4ba9-9175-fad05c26c582\")) {window._Plotly.Plots.resize(document.getElementById(\"630f40d2-b133-4ba9-9175-fad05c26c582\"));};})</script>"
      ]
     },
     "metadata": {},
     "output_type": "display_data"
    }
   ],
   "source": [
    "py.offline.iplot(fig)"
   ]
  },
  {
   "cell_type": "code",
   "execution_count": null,
   "metadata": {},
   "outputs": [],
   "source": []
  }
 ],
 "metadata": {
  "kernelspec": {
   "display_name": "Python 3",
   "language": "python",
   "name": "python3"
  },
  "language_info": {
   "codemirror_mode": {
    "name": "ipython",
    "version": 3
   },
   "file_extension": ".py",
   "mimetype": "text/x-python",
   "name": "python",
   "nbconvert_exporter": "python",
   "pygments_lexer": "ipython3",
   "version": "3.7.1"
  }
 },
 "nbformat": 4,
 "nbformat_minor": 2
}
